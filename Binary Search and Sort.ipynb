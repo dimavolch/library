{
 "cells": [
  {
   "cell_type": "code",
   "execution_count": 64,
   "id": "1d9ac6f2",
   "metadata": {},
   "outputs": [],
   "source": [
    "#Binary Search\n",
    "\n",
    "# input: list, b\n",
    "#output: index of b in list\n",
    "import math\n",
    "\n",
    "def binary_search (list, b): \n",
    "    left = 0\n",
    "    right = len(list)\n",
    "    while left <= right:\n",
    "        middle = math.floor(((left+right)/2))\n",
    "        if middle + 1 > len(list):\n",
    "            break\n",
    "        if list[middle] == b:\n",
    "            return middle\n",
    "        elif list[middle] > b:\n",
    "            right = middle - 1\n",
    "        else:\n",
    "            left = middle + 1\n",
    "    return \"non-existant\""
   ]
  },
  {
   "cell_type": "code",
   "execution_count": 65,
   "id": "40766bba",
   "metadata": {},
   "outputs": [],
   "source": [
    "list = [1,5,45,788,799,800,2000,2222]"
   ]
  },
  {
   "cell_type": "code",
   "execution_count": 68,
   "id": "0ef8dea3",
   "metadata": {},
   "outputs": [],
   "source": [
    "b = 800"
   ]
  },
  {
   "cell_type": "code",
   "execution_count": 69,
   "id": "2c376d17",
   "metadata": {},
   "outputs": [
    {
     "data": {
      "text/plain": [
       "5"
      ]
     },
     "execution_count": 69,
     "metadata": {},
     "output_type": "execute_result"
    }
   ],
   "source": [
    "binary_search(list, b)"
   ]
  },
  {
   "cell_type": "code",
   "execution_count": null,
   "id": "5404af28",
   "metadata": {},
   "outputs": [],
   "source": [
    "#Binary Insertion Sort\n",
    "def ins_sort(list):\n",
    "    for(k in 1 to len(list) - 1)"
   ]
  }
 ],
 "metadata": {
  "kernelspec": {
   "display_name": "Python 3",
   "language": "python",
   "name": "python3"
  },
  "language_info": {
   "codemirror_mode": {
    "name": "ipython",
    "version": 3
   },
   "file_extension": ".py",
   "mimetype": "text/x-python",
   "name": "python",
   "nbconvert_exporter": "python",
   "pygments_lexer": "ipython3",
   "version": "3.8.8"
  }
 },
 "nbformat": 4,
 "nbformat_minor": 5
}

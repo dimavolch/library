{
 "cells": [
  {
   "cell_type": "code",
   "execution_count": 1,
   "id": "4d153631",
   "metadata": {},
   "outputs": [
    {
     "name": "stdout",
     "output_type": "stream",
     "text": [
      "pygame 2.1.2 (SDL 2.0.18, Python 3.8.8)\n",
      "Hello from the pygame community. https://www.pygame.org/contribute.html\n"
     ]
    }
   ],
   "source": [
    "import pygame\n",
    "from pygame.sprite import Sprite\n",
    "\n",
    "class Bullet (Sprite):\n",
    "    #a class that manages bullets fired by the ship\n",
    "    def __init__(self, ai_settings, screen, ship):\n",
    "        #creates a bullet a the ship's current position\n",
    "        super().__init__()\n",
    "        self.screen = screen\n",
    "        \n",
    "        #create a bullet rect at (0, 0) and then set correct position\n",
    "        self.rect = pygame.Rect(0, 0, ai_settings.bullet_width, ai_settings.bullet_height)\n",
    "        self.rect.centerx = ship.rect.centerx\n",
    "        self.rect.top = ship.rect.top\n",
    "        \n",
    "        #bullet position as decimal number\n",
    "        self.y = float(self.rect.y)\n",
    "        \n",
    "        self.color = ai_settings.bullet_color\n",
    "        self.speed_factor = ai_settings.bullet_speed_factor\n",
    "        \n",
    "    def update(self):\n",
    "        #move the bullet\n",
    "        #update bullet object\n",
    "        self.y -= self.speed_factor\n",
    "        #set bullet rect to new value\n",
    "        self.rect.y = self.y\n",
    "        \n",
    "    def draw_bullet(self):\n",
    "        pygame.draw.rect(self.screen, self.color, self.rect)"
   ]
  },
  {
   "cell_type": "code",
   "execution_count": null,
   "id": "8033e82c",
   "metadata": {},
   "outputs": [],
   "source": []
  }
 ],
 "metadata": {
  "kernelspec": {
   "display_name": "Python 3",
   "language": "python",
   "name": "python3"
  },
  "language_info": {
   "codemirror_mode": {
    "name": "ipython",
    "version": 3
   },
   "file_extension": ".py",
   "mimetype": "text/x-python",
   "name": "python",
   "nbconvert_exporter": "python",
   "pygments_lexer": "ipython3",
   "version": "3.8.8"
  }
 },
 "nbformat": 4,
 "nbformat_minor": 5
}

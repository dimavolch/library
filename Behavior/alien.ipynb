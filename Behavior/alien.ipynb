{
 "cells": [
  {
   "cell_type": "code",
   "execution_count": 3,
   "id": "f3127599",
   "metadata": {},
   "outputs": [],
   "source": [
    "import pygame\n",
    "from pygame.sprite import Sprite\n",
    "\n",
    "class Alien(Sprite):\n",
    "    # a class to represent a single instance of an alien in the fleet\n",
    "    \n",
    "    def __init__(self, ai_settings, screen):\n",
    "        #initialize alien, set starting position\n",
    "        super(Alien, self).__init__()\n",
    "        self.screen = screen\n",
    "        self.ai_settings = ai_settings\n",
    "        \n",
    "        #load image\n",
    "        self.image = pygame.image.load('coding images/alien.bmp')\n",
    "        self.rect = self.image.get_rect()\n",
    "        \n",
    "        #start new alien near the top left\n",
    "        self.rect.x = self.rect.width\n",
    "        self.rect.y = self.rect.height\n",
    "        \n",
    "        #store alien position\n",
    "        self.x = float(self.rect.x)\n",
    "        \n",
    "    def blitme(self):\n",
    "        #draw the alien in its current location\n",
    "        self.screen.blit(self.image, self.rect)\n",
    "        \n",
    "        \n",
    "        \n",
    "        \n",
    "        \n",
    "    available_space_x = "
   ]
  }
 ],
 "metadata": {
  "kernelspec": {
   "display_name": "Python 3",
   "language": "python",
   "name": "python3"
  },
  "language_info": {
   "codemirror_mode": {
    "name": "ipython",
    "version": 3
   },
   "file_extension": ".py",
   "mimetype": "text/x-python",
   "name": "python",
   "nbconvert_exporter": "python",
   "pygments_lexer": "ipython3",
   "version": "3.8.8"
  }
 },
 "nbformat": 4,
 "nbformat_minor": 5
}

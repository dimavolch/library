{
 "cells": [
  {
   "cell_type": "code",
   "execution_count": 4,
   "metadata": {},
   "outputs": [],
   "source": [
    "import sys\n",
    "import pygame\n",
    "import import_ipynb\n",
    "from bullet import Bullet\n",
    "\n",
    "def check_keydown_events(event, ai_settings, screen, ship, bullets):\n",
    "    #respond to key presses\n",
    "    if event.key == pygame.K_RIGHT:\n",
    "        ship.moving_right = True\n",
    "    if event.key == pygame.K_LEFT:\n",
    "        ship.moving_left = True    \n",
    "    if event.key == pygame.K_SPACE:\n",
    "        fire_bullet(ai_settings, screen, ship, bullets)\n",
    "    elif event.key == pygame.K_q:\n",
    "        sys.exit()\n",
    "\n",
    "def fire_bullet(ai_settings, screen, ship, bullets):\n",
    "    #create a new bullet and add it to the bullets group\n",
    "    if len(bullets) < ai_settings.bullets_allowed:\n",
    "        new_bullet = Bullet(ai_settings, screen, ship)\n",
    "        bullets.add(new_bullet)\n",
    "\n",
    "def check_keyup_events(event, ship):\n",
    "    #respond to key releases\n",
    "    if event.key == pygame.K_RIGHT:\n",
    "        ship.moving_right = False\n",
    "    if event.key == pygame.K_LEFT:\n",
    "        ship.moving_left = False\n",
    "\n",
    "def check_events(ai_settings, screen, ship, bullets):\n",
    "    #respond to pressed keys and mouse movement\n",
    "    for event in pygame.event.get():\n",
    "        if event.type == pygame.QUIT:\n",
    "            sys.exit()\n",
    "        elif event.type == pygame.KEYDOWN:\n",
    "            check_keydown_events(event, ai_settings, screen, ship, bullets)\n",
    "        elif event.type == pygame.KEYUP:\n",
    "            check_keyup_events(event, ship)\n",
    "                \n",
    "def update_screen(ai_settings, screen, ship, alien, bullets):\n",
    "    #redraw the screen during each pass through the game loop\n",
    "    screen.fill(ai_settings.bg_color)\n",
    "    #redraw all bullets\n",
    "    for bullet in bullets.sprites():\n",
    "        bullet.draw_bullet()\n",
    "    #draw ship last\n",
    "    ship.blitme()\n",
    "    #actually draw the aliens last\n",
    "    alien.blitme()\n",
    "    \n",
    "    \n",
    "def update_bullets(bullets):\n",
    "    #update position and get rid of unnecessary ones\n",
    "    bullets.update()\n",
    "    \n",
    "    #dispose of bullets outside the field\n",
    "    for bullet in bullets.copy():\n",
    "        if bullet.rect.bottom <= 0:\n",
    "            bullets.remove(bullet)"
   ]
  },
  {
   "cell_type": "code",
   "execution_count": null,
   "metadata": {},
   "outputs": [],
   "source": []
  },
  {
   "cell_type": "code",
   "execution_count": null,
   "metadata": {},
   "outputs": [],
   "source": []
  }
 ],
 "metadata": {
  "kernelspec": {
   "display_name": "Python 3",
   "language": "python",
   "name": "python3"
  },
  "language_info": {
   "codemirror_mode": {
    "name": "ipython",
    "version": 3
   },
   "file_extension": ".py",
   "mimetype": "text/x-python",
   "name": "python",
   "nbconvert_exporter": "python",
   "pygments_lexer": "ipython3",
   "version": "3.8.8"
  }
 },
 "nbformat": 4,
 "nbformat_minor": 4
}

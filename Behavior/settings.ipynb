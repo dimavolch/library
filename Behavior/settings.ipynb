{
 "cells": [
  {
   "cell_type": "code",
   "execution_count": 1,
   "metadata": {},
   "outputs": [],
   "source": [
    "class Settings():\n",
    "    #stores settings\n",
    "    def __init__(self):\n",
    "        self.screen_width = 1200\n",
    "        self.screen_height = 800\n",
    "        self.bg_color = (230, 230, 230)\n",
    "        #ship settings\n",
    "        self.ship_speed_factor = 1.5\n",
    "        #bullet settings\n",
    "        self.bullet_speed_factor = 1\n",
    "        self.bullet_width = 3\n",
    "        self.bullet_height = 15\n",
    "        self.bullet_color = 60, 60, 60\n",
    "        self.bullets_allowed = 3 #limits the number of allowed bullets"
   ]
  },
  {
   "cell_type": "code",
   "execution_count": null,
   "metadata": {},
   "outputs": [],
   "source": []
  }
 ],
 "metadata": {
  "kernelspec": {
   "display_name": "Python 3",
   "language": "python",
   "name": "python3"
  },
  "language_info": {
   "codemirror_mode": {
    "name": "ipython",
    "version": 3
   },
   "file_extension": ".py",
   "mimetype": "text/x-python",
   "name": "python",
   "nbconvert_exporter": "python",
   "pygments_lexer": "ipython3",
   "version": "3.8.8"
  }
 },
 "nbformat": 4,
 "nbformat_minor": 4
}

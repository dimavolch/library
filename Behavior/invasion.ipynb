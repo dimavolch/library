{
 "cells": [
  {
   "cell_type": "code",
   "execution_count": null,
   "metadata": {},
   "outputs": [
    {
     "name": "stdout",
     "output_type": "stream",
     "text": [
      "pygame 2.1.2 (SDL 2.0.18, Python 3.8.8)\n",
      "Hello from the pygame community. https://www.pygame.org/contribute.html\n",
      "importing Jupyter notebook from settings.ipynb\n",
      "importing Jupyter notebook from ship.ipynb\n",
      "importing Jupyter notebook from alien.ipynb\n",
      "importing Jupyter notebook from game_functions.ipynb\n",
      "importing Jupyter notebook from bullet.ipynb\n"
     ]
    }
   ],
   "source": [
    "import pygame\n",
    "import import_ipynb\n",
    "from pygame.sprite import Group\n",
    "from settings import Settings\n",
    "from ship import Ship\n",
    "from alien import Alien\n",
    "import game_functions as gf\n",
    "\n",
    "def run_game():\n",
    "    #initialize game and create the screen\n",
    "    pygame.init()\n",
    "    ai_settings = Settings()\n",
    "    screen = pygame.display.set_mode(\n",
    "        (ai_settings.screen_width, ai_settings.screen_height))\n",
    "    pygame.display.set_caption(\"Alien Invasion\")\n",
    "    \n",
    "    #make a ship\n",
    "    ship = Ship(ai_settings, screen)\n",
    "    #make bullets (stored as a group)\n",
    "    bullets = Group()\n",
    "    #make an alien\n",
    "    alien = Alien(ai_settings, screen)\n",
    "    #main loop of the game\n",
    "    while True:\n",
    "        gf.check_events(ai_settings, screen, ship, bullets)\n",
    "        ship.update()\n",
    "        gf.update_bullets(bullets)\n",
    "        gf.update_screen(ai_settings, screen, ship, alien, bullets)\n",
    "        #make the most recent drawn screen visible\n",
    "        pygame.display.flip()\n",
    "        \n",
    "run_game()"
   ]
  },
  {
   "cell_type": "code",
   "execution_count": null,
   "metadata": {},
   "outputs": [],
   "source": []
  }
 ],
 "metadata": {
  "kernelspec": {
   "display_name": "Python 3",
   "language": "python",
   "name": "python3"
  },
  "language_info": {
   "codemirror_mode": {
    "name": "ipython",
    "version": 3
   },
   "file_extension": ".py",
   "mimetype": "text/x-python",
   "name": "python",
   "nbconvert_exporter": "python",
   "pygments_lexer": "ipython3",
   "version": "3.8.8"
  }
 },
 "nbformat": 4,
 "nbformat_minor": 4
}
